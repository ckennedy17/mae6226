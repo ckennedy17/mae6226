{
 "cells": [
  {
   "cell_type": "markdown",
   "metadata": {},
   "source": [
    "# Homework 1 Coding Assignment"
   ]
  },
  {
   "cell_type": "code",
   "execution_count": 30,
   "metadata": {
    "collapsed": true
   },
   "outputs": [],
   "source": [
    "import numpy as np\n",
    "from matplotlib import pyplot as plt\n",
    "import math"
   ]
  },
  {
   "cell_type": "code",
   "execution_count": 31,
   "metadata": {},
   "outputs": [],
   "source": [
    "NACAx = np.loadtxt('NACA0012_x.txt', dtype= 'float')\n",
    "NACAy = np.loadtxt('NACA0012_y.txt', dtype = 'float')\n",
    "NACAsigma = np.loadtxt('NACA0012_sigma.txt', dtype = 'float')"
   ]
  },
  {
   "cell_type": "code",
   "execution_count": 32,
   "metadata": {},
   "outputs": [],
   "source": [
    "N = 50                                \n",
    "x_start, x_end = -1.0, 2.0            \n",
    "y_start, y_end = -0.5, 0.5            \n",
    "x = np.linspace(x_start, x_end, N)   \n",
    "y = np.linspace(y_start, y_end, N)   \n",
    "X, Y = np.meshgrid(x, y)  "
   ]
  },
  {
   "cell_type": "code",
   "execution_count": 33,
   "metadata": {},
   "outputs": [],
   "source": [
    "u_inf = 1.0      \n",
    "def hor_freestream(u_inf, N, Y):\n",
    "    u_freestream = u_inf * np.ones((N, N), dtype=float)\n",
    "    v_freestream = np.zeros((N, N), dtype=float)\n",
    "    psi_freestream = u_inf * Y\n",
    "    return u_freestream, v_freestream,  psi_freestream"
   ]
  },
  {
   "cell_type": "code",
   "execution_count": 34,
   "metadata": {
    "collapsed": true
   },
   "outputs": [],
   "source": [
    "u_freestream, v_freestream, psi_freestream = hor_freestream(u_inf, N, Y)\n",
    "u_total = u_freestream\n",
    "v_total = v_freestream"
   ]
  },
  {
   "cell_type": "code",
   "execution_count": 37,
   "metadata": {},
   "outputs": [
    {
     "data": {
      "text/plain": [
       "<matplotlib.streamplot.StreamplotSet at 0x7fc218761780>"
      ]
     },
     "execution_count": 37,
     "metadata": {},
     "output_type": "execute_result"
    },
    {
     "data": {
      "image/png": "[encoded data removed]",
      "text/plain": [
       "<matplotlib.figure.Figure at 0x7fc218498908>"
      ]
     },
     "metadata": {},
     "output_type": "display_data"
    }
   ],
   "source": [
    "% matplotlib inline\n",
    "width = 10.0\n",
    "height = (y_end - y_start) / (x_end - x_start) * width\n",
    "plt.figure(figsize=(width, height))\n",
    "plt.xlabel('x', fontsize=16)\n",
    "plt.ylabel('y', fontsize=16)\n",
    "plt.xlim(x_start, x_end)\n",
    "plt.ylim(y_start, y_end)\n",
    "plt.streamplot(X, Y, u_total, v_total , density=2, linewidth=1, arrowsize=2, arrowstyle='->')\n"
   ]
  },
  {
   "cell_type": "code",
   "execution_count": null,
   "metadata": {
    "collapsed": true
   },
   "outputs": [],
   "source": []
  }
 ],
 "metadata": {
  "kernelspec": {
   "display_name": "Python 3",
   "language": "python",
   "name": "python3"
  },
  "language_info": {
   "codemirror_mode": {
    "name": "ipython",
    "version": 3
   },
   "file_extension": ".py",
   "mimetype": "text/x-python",
   "name": "python",
   "nbconvert_exporter": "python",
   "pygments_lexer": "ipython3",
   "version": "3.6.2"
  }
 },
 "nbformat": 4,
 "nbformat_minor": 2
}
